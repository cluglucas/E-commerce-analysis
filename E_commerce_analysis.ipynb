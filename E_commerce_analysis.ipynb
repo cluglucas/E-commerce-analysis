{
  "nbformat": 4,
  "nbformat_minor": 0,
  "metadata": {
    "colab": {
      "name": "E-commerce analysis.ipynb",
      "provenance": [],
      "mount_file_id": "1vELIdN_OVUhfay3W9Xv4ynzu1Tsx2ws9",
      "authorship_tag": "ABX9TyNnuXlhNrP/tWxtaXPd0Urf",
      "include_colab_link": true
    },
    "kernelspec": {
      "name": "python3",
      "display_name": "Python 3"
    },
    "language_info": {
      "name": "python"
    }
  },
  "cells": [
    {
      "cell_type": "markdown",
      "metadata": {
        "id": "view-in-github",
        "colab_type": "text"
      },
      "source": [
        "<a href=\"https://colab.research.google.com/github/cluglucas/E-commerce-analysis/blob/main/E_commerce_analysis.ipynb\" target=\"_parent\"><img src=\"https://colab.research.google.com/assets/colab-badge.svg\" alt=\"Open In Colab\"/></a>"
      ]
    },
    {
      "cell_type": "markdown",
      "metadata": {
        "id": "VJVMOeqCMwr0"
      },
      "source": [
        "## Importação das bibliotecas"
      ]
    },
    {
      "cell_type": "code",
      "metadata": {
        "id": "OwfdGx3GFejo"
      },
      "source": [
        "import pandas as pd\n",
        "import numpy as np\n",
        "import matplotlib.pyplot as plt\n",
        "%matplotlib inline\n",
        "import seaborn as sns"
      ],
      "execution_count": 2,
      "outputs": []
    },
    {
      "cell_type": "code",
      "metadata": {
        "id": "C2WKGkHLGrWx"
      },
      "source": [
        "df=pd.read_csv('https://raw.githubusercontent.com/cluglucas/E-commerce-analysis/main/Train.csv')"
      ],
      "execution_count": 32,
      "outputs": []
    },
    {
      "cell_type": "markdown",
      "metadata": {
        "id": "g4TIpvO_IZRM"
      },
      "source": [
        "## Dicionário de variáveis"
      ]
    },
    {
      "cell_type": "markdown",
      "metadata": {
        "id": "rXCvJwCyIpGD"
      },
      "source": [
        "**ID** <br>\n",
        "-ID Number of Customers.\n",
        "\n",
        "**Warehouse_block** <br>\n",
        "-The Company have big Warehouse which is divided in to block such as A,B,C,D,E.\n",
        "\n",
        "**Mode_of_Shipment** <br>\n",
        "-The Company Ships the products in multiple way such as Ship, Flight and Road.\n",
        "\n",
        "**Customer_care_calls** <br>\n",
        "-The number of calls made from enquiry for enquiry of the shipment.\n",
        "\n",
        "**Customer_rating** <br>\n",
        "-The company has rated from every customer. 1 is the lowest (Worst), 5 is the highest (Best)\n",
        "\n",
        "**Cost_of_the_Product** <br>\n",
        "-Cost of the Product in US Dollars.\n",
        "\n",
        "**Prior_purchases** <br>\n",
        "-The Number of Prior Purchase.\n",
        "\n",
        "**Product_importance** <br>\n",
        "-The company has categorized the product in the various parameter such as low, medium, high.\n",
        "\n",
        "**Gender** <br>\n",
        "-Male and Female.\n",
        "\n",
        "**Discount_offered** <br>\n",
        "-Discount offered on that specific product.\n",
        "\n",
        "**Weight_in_gms** <br>\n",
        "-It is the weight in grams.\n",
        "\n",
        "**Reached.on.Time_Y.N** <br>\n",
        "-It is the target variable, where 1 Indicates that the product has NOT reached on time and 0 indicates it has reached on time.\n",
        "\n",
        "\n"
      ]
    },
    {
      "cell_type": "markdown",
      "metadata": {
        "id": "A6Y61KiONIbR"
      },
      "source": [
        "## Análise preliminar"
      ]
    },
    {
      "cell_type": "code",
      "metadata": {
        "colab": {
          "base_uri": "https://localhost:8080/",
          "height": 224
        },
        "id": "c6Bd_YJJG07w",
        "outputId": "dd5c2c74-334a-4cf0-f4e6-1eee8cf77850"
      },
      "source": [
        "df.head()"
      ],
      "execution_count": 4,
      "outputs": [
        {
          "output_type": "execute_result",
          "data": {
            "text/html": [
              "<div>\n",
              "<style scoped>\n",
              "    .dataframe tbody tr th:only-of-type {\n",
              "        vertical-align: middle;\n",
              "    }\n",
              "\n",
              "    .dataframe tbody tr th {\n",
              "        vertical-align: top;\n",
              "    }\n",
              "\n",
              "    .dataframe thead th {\n",
              "        text-align: right;\n",
              "    }\n",
              "</style>\n",
              "<table border=\"1\" class=\"dataframe\">\n",
              "  <thead>\n",
              "    <tr style=\"text-align: right;\">\n",
              "      <th></th>\n",
              "      <th>ID</th>\n",
              "      <th>Warehouse_block</th>\n",
              "      <th>Mode_of_Shipment</th>\n",
              "      <th>Customer_care_calls</th>\n",
              "      <th>Customer_rating</th>\n",
              "      <th>Cost_of_the_Product</th>\n",
              "      <th>Prior_purchases</th>\n",
              "      <th>Product_importance</th>\n",
              "      <th>Gender</th>\n",
              "      <th>Discount_offered</th>\n",
              "      <th>Weight_in_gms</th>\n",
              "      <th>Reached.on.Time_Y.N</th>\n",
              "    </tr>\n",
              "  </thead>\n",
              "  <tbody>\n",
              "    <tr>\n",
              "      <th>0</th>\n",
              "      <td>1</td>\n",
              "      <td>D</td>\n",
              "      <td>Flight</td>\n",
              "      <td>4</td>\n",
              "      <td>2</td>\n",
              "      <td>177</td>\n",
              "      <td>3</td>\n",
              "      <td>low</td>\n",
              "      <td>F</td>\n",
              "      <td>44</td>\n",
              "      <td>1233</td>\n",
              "      <td>1</td>\n",
              "    </tr>\n",
              "    <tr>\n",
              "      <th>1</th>\n",
              "      <td>2</td>\n",
              "      <td>F</td>\n",
              "      <td>Flight</td>\n",
              "      <td>4</td>\n",
              "      <td>5</td>\n",
              "      <td>216</td>\n",
              "      <td>2</td>\n",
              "      <td>low</td>\n",
              "      <td>M</td>\n",
              "      <td>59</td>\n",
              "      <td>3088</td>\n",
              "      <td>1</td>\n",
              "    </tr>\n",
              "    <tr>\n",
              "      <th>2</th>\n",
              "      <td>3</td>\n",
              "      <td>A</td>\n",
              "      <td>Flight</td>\n",
              "      <td>2</td>\n",
              "      <td>2</td>\n",
              "      <td>183</td>\n",
              "      <td>4</td>\n",
              "      <td>low</td>\n",
              "      <td>M</td>\n",
              "      <td>48</td>\n",
              "      <td>3374</td>\n",
              "      <td>1</td>\n",
              "    </tr>\n",
              "    <tr>\n",
              "      <th>3</th>\n",
              "      <td>4</td>\n",
              "      <td>B</td>\n",
              "      <td>Flight</td>\n",
              "      <td>3</td>\n",
              "      <td>3</td>\n",
              "      <td>176</td>\n",
              "      <td>4</td>\n",
              "      <td>medium</td>\n",
              "      <td>M</td>\n",
              "      <td>10</td>\n",
              "      <td>1177</td>\n",
              "      <td>1</td>\n",
              "    </tr>\n",
              "    <tr>\n",
              "      <th>4</th>\n",
              "      <td>5</td>\n",
              "      <td>C</td>\n",
              "      <td>Flight</td>\n",
              "      <td>2</td>\n",
              "      <td>2</td>\n",
              "      <td>184</td>\n",
              "      <td>3</td>\n",
              "      <td>medium</td>\n",
              "      <td>F</td>\n",
              "      <td>46</td>\n",
              "      <td>2484</td>\n",
              "      <td>1</td>\n",
              "    </tr>\n",
              "  </tbody>\n",
              "</table>\n",
              "</div>"
            ],
            "text/plain": [
              "   ID Warehouse_block  ... Weight_in_gms  Reached.on.Time_Y.N\n",
              "0   1               D  ...          1233                    1\n",
              "1   2               F  ...          3088                    1\n",
              "2   3               A  ...          3374                    1\n",
              "3   4               B  ...          1177                    1\n",
              "4   5               C  ...          2484                    1\n",
              "\n",
              "[5 rows x 12 columns]"
            ]
          },
          "metadata": {
            "tags": []
          },
          "execution_count": 4
        }
      ]
    },
    {
      "cell_type": "code",
      "metadata": {
        "colab": {
          "base_uri": "https://localhost:8080/"
        },
        "id": "Z9-G1EEiG6gK",
        "outputId": "a2efbf95-7ddd-4ced-effb-e7af5e5c5cbb"
      },
      "source": [
        "print(df.shape)"
      ],
      "execution_count": 5,
      "outputs": [
        {
          "output_type": "stream",
          "text": [
            "(10999, 12)\n"
          ],
          "name": "stdout"
        }
      ]
    },
    {
      "cell_type": "code",
      "metadata": {
        "colab": {
          "base_uri": "https://localhost:8080/"
        },
        "id": "0dVtUJsWHCwj",
        "outputId": "2456c3ec-9e78-4902-8f58-e3741125b9ab"
      },
      "source": [
        "df.nunique()"
      ],
      "execution_count": 6,
      "outputs": [
        {
          "output_type": "execute_result",
          "data": {
            "text/plain": [
              "ID                     10999\n",
              "Warehouse_block            5\n",
              "Mode_of_Shipment           3\n",
              "Customer_care_calls        6\n",
              "Customer_rating            5\n",
              "Cost_of_the_Product      215\n",
              "Prior_purchases            8\n",
              "Product_importance         3\n",
              "Gender                     2\n",
              "Discount_offered          65\n",
              "Weight_in_gms           4034\n",
              "Reached.on.Time_Y.N        2\n",
              "dtype: int64"
            ]
          },
          "metadata": {
            "tags": []
          },
          "execution_count": 6
        }
      ]
    },
    {
      "cell_type": "code",
      "metadata": {
        "colab": {
          "base_uri": "https://localhost:8080/"
        },
        "id": "RO_U2C-kKh_a",
        "outputId": "8a050aeb-8286-4b61-b657-bf0228555b1c"
      },
      "source": [
        "df.info() # Não há valores nulos"
      ],
      "execution_count": 7,
      "outputs": [
        {
          "output_type": "stream",
          "text": [
            "<class 'pandas.core.frame.DataFrame'>\n",
            "RangeIndex: 10999 entries, 0 to 10998\n",
            "Data columns (total 12 columns):\n",
            " #   Column               Non-Null Count  Dtype \n",
            "---  ------               --------------  ----- \n",
            " 0   ID                   10999 non-null  int64 \n",
            " 1   Warehouse_block      10999 non-null  object\n",
            " 2   Mode_of_Shipment     10999 non-null  object\n",
            " 3   Customer_care_calls  10999 non-null  int64 \n",
            " 4   Customer_rating      10999 non-null  int64 \n",
            " 5   Cost_of_the_Product  10999 non-null  int64 \n",
            " 6   Prior_purchases      10999 non-null  int64 \n",
            " 7   Product_importance   10999 non-null  object\n",
            " 8   Gender               10999 non-null  object\n",
            " 9   Discount_offered     10999 non-null  int64 \n",
            " 10  Weight_in_gms        10999 non-null  int64 \n",
            " 11  Reached.on.Time_Y.N  10999 non-null  int64 \n",
            "dtypes: int64(8), object(4)\n",
            "memory usage: 1.0+ MB\n"
          ],
          "name": "stdout"
        }
      ]
    },
    {
      "cell_type": "code",
      "metadata": {
        "colab": {
          "base_uri": "https://localhost:8080/",
          "height": 317
        },
        "id": "7Kkcj6-uK8I0",
        "outputId": "4f748e4b-94a8-4516-e8e7-194d52318208"
      },
      "source": [
        "df.describe(include=np.number)"
      ],
      "execution_count": 8,
      "outputs": [
        {
          "output_type": "execute_result",
          "data": {
            "text/html": [
              "<div>\n",
              "<style scoped>\n",
              "    .dataframe tbody tr th:only-of-type {\n",
              "        vertical-align: middle;\n",
              "    }\n",
              "\n",
              "    .dataframe tbody tr th {\n",
              "        vertical-align: top;\n",
              "    }\n",
              "\n",
              "    .dataframe thead th {\n",
              "        text-align: right;\n",
              "    }\n",
              "</style>\n",
              "<table border=\"1\" class=\"dataframe\">\n",
              "  <thead>\n",
              "    <tr style=\"text-align: right;\">\n",
              "      <th></th>\n",
              "      <th>ID</th>\n",
              "      <th>Customer_care_calls</th>\n",
              "      <th>Customer_rating</th>\n",
              "      <th>Cost_of_the_Product</th>\n",
              "      <th>Prior_purchases</th>\n",
              "      <th>Discount_offered</th>\n",
              "      <th>Weight_in_gms</th>\n",
              "      <th>Reached.on.Time_Y.N</th>\n",
              "    </tr>\n",
              "  </thead>\n",
              "  <tbody>\n",
              "    <tr>\n",
              "      <th>count</th>\n",
              "      <td>10999.00000</td>\n",
              "      <td>10999.000000</td>\n",
              "      <td>10999.000000</td>\n",
              "      <td>10999.000000</td>\n",
              "      <td>10999.000000</td>\n",
              "      <td>10999.000000</td>\n",
              "      <td>10999.000000</td>\n",
              "      <td>10999.000000</td>\n",
              "    </tr>\n",
              "    <tr>\n",
              "      <th>mean</th>\n",
              "      <td>5500.00000</td>\n",
              "      <td>4.054459</td>\n",
              "      <td>2.990545</td>\n",
              "      <td>210.196836</td>\n",
              "      <td>3.567597</td>\n",
              "      <td>13.373216</td>\n",
              "      <td>3634.016729</td>\n",
              "      <td>0.596691</td>\n",
              "    </tr>\n",
              "    <tr>\n",
              "      <th>std</th>\n",
              "      <td>3175.28214</td>\n",
              "      <td>1.141490</td>\n",
              "      <td>1.413603</td>\n",
              "      <td>48.063272</td>\n",
              "      <td>1.522860</td>\n",
              "      <td>16.205527</td>\n",
              "      <td>1635.377251</td>\n",
              "      <td>0.490584</td>\n",
              "    </tr>\n",
              "    <tr>\n",
              "      <th>min</th>\n",
              "      <td>1.00000</td>\n",
              "      <td>2.000000</td>\n",
              "      <td>1.000000</td>\n",
              "      <td>96.000000</td>\n",
              "      <td>2.000000</td>\n",
              "      <td>1.000000</td>\n",
              "      <td>1001.000000</td>\n",
              "      <td>0.000000</td>\n",
              "    </tr>\n",
              "    <tr>\n",
              "      <th>25%</th>\n",
              "      <td>2750.50000</td>\n",
              "      <td>3.000000</td>\n",
              "      <td>2.000000</td>\n",
              "      <td>169.000000</td>\n",
              "      <td>3.000000</td>\n",
              "      <td>4.000000</td>\n",
              "      <td>1839.500000</td>\n",
              "      <td>0.000000</td>\n",
              "    </tr>\n",
              "    <tr>\n",
              "      <th>50%</th>\n",
              "      <td>5500.00000</td>\n",
              "      <td>4.000000</td>\n",
              "      <td>3.000000</td>\n",
              "      <td>214.000000</td>\n",
              "      <td>3.000000</td>\n",
              "      <td>7.000000</td>\n",
              "      <td>4149.000000</td>\n",
              "      <td>1.000000</td>\n",
              "    </tr>\n",
              "    <tr>\n",
              "      <th>75%</th>\n",
              "      <td>8249.50000</td>\n",
              "      <td>5.000000</td>\n",
              "      <td>4.000000</td>\n",
              "      <td>251.000000</td>\n",
              "      <td>4.000000</td>\n",
              "      <td>10.000000</td>\n",
              "      <td>5050.000000</td>\n",
              "      <td>1.000000</td>\n",
              "    </tr>\n",
              "    <tr>\n",
              "      <th>max</th>\n",
              "      <td>10999.00000</td>\n",
              "      <td>7.000000</td>\n",
              "      <td>5.000000</td>\n",
              "      <td>310.000000</td>\n",
              "      <td>10.000000</td>\n",
              "      <td>65.000000</td>\n",
              "      <td>7846.000000</td>\n",
              "      <td>1.000000</td>\n",
              "    </tr>\n",
              "  </tbody>\n",
              "</table>\n",
              "</div>"
            ],
            "text/plain": [
              "                ID  Customer_care_calls  ...  Weight_in_gms  Reached.on.Time_Y.N\n",
              "count  10999.00000         10999.000000  ...   10999.000000         10999.000000\n",
              "mean    5500.00000             4.054459  ...    3634.016729             0.596691\n",
              "std     3175.28214             1.141490  ...    1635.377251             0.490584\n",
              "min        1.00000             2.000000  ...    1001.000000             0.000000\n",
              "25%     2750.50000             3.000000  ...    1839.500000             0.000000\n",
              "50%     5500.00000             4.000000  ...    4149.000000             1.000000\n",
              "75%     8249.50000             5.000000  ...    5050.000000             1.000000\n",
              "max    10999.00000             7.000000  ...    7846.000000             1.000000\n",
              "\n",
              "[8 rows x 8 columns]"
            ]
          },
          "metadata": {
            "tags": []
          },
          "execution_count": 8
        }
      ]
    },
    {
      "cell_type": "code",
      "metadata": {
        "colab": {
          "base_uri": "https://localhost:8080/",
          "height": 173
        },
        "id": "Y2jO6aBnLJIA",
        "outputId": "bfd09606-34c9-49e4-982c-ea1c012fee4b"
      },
      "source": [
        "df.describe(include=np.object)"
      ],
      "execution_count": 9,
      "outputs": [
        {
          "output_type": "execute_result",
          "data": {
            "text/html": [
              "<div>\n",
              "<style scoped>\n",
              "    .dataframe tbody tr th:only-of-type {\n",
              "        vertical-align: middle;\n",
              "    }\n",
              "\n",
              "    .dataframe tbody tr th {\n",
              "        vertical-align: top;\n",
              "    }\n",
              "\n",
              "    .dataframe thead th {\n",
              "        text-align: right;\n",
              "    }\n",
              "</style>\n",
              "<table border=\"1\" class=\"dataframe\">\n",
              "  <thead>\n",
              "    <tr style=\"text-align: right;\">\n",
              "      <th></th>\n",
              "      <th>Warehouse_block</th>\n",
              "      <th>Mode_of_Shipment</th>\n",
              "      <th>Product_importance</th>\n",
              "      <th>Gender</th>\n",
              "    </tr>\n",
              "  </thead>\n",
              "  <tbody>\n",
              "    <tr>\n",
              "      <th>count</th>\n",
              "      <td>10999</td>\n",
              "      <td>10999</td>\n",
              "      <td>10999</td>\n",
              "      <td>10999</td>\n",
              "    </tr>\n",
              "    <tr>\n",
              "      <th>unique</th>\n",
              "      <td>5</td>\n",
              "      <td>3</td>\n",
              "      <td>3</td>\n",
              "      <td>2</td>\n",
              "    </tr>\n",
              "    <tr>\n",
              "      <th>top</th>\n",
              "      <td>F</td>\n",
              "      <td>Ship</td>\n",
              "      <td>low</td>\n",
              "      <td>F</td>\n",
              "    </tr>\n",
              "    <tr>\n",
              "      <th>freq</th>\n",
              "      <td>3666</td>\n",
              "      <td>7462</td>\n",
              "      <td>5297</td>\n",
              "      <td>5545</td>\n",
              "    </tr>\n",
              "  </tbody>\n",
              "</table>\n",
              "</div>"
            ],
            "text/plain": [
              "       Warehouse_block Mode_of_Shipment Product_importance Gender\n",
              "count            10999            10999              10999  10999\n",
              "unique               5                3                  3      2\n",
              "top                  F             Ship                low      F\n",
              "freq              3666             7462               5297   5545"
            ]
          },
          "metadata": {
            "tags": []
          },
          "execution_count": 9
        }
      ]
    },
    {
      "cell_type": "markdown",
      "metadata": {
        "id": "1yTKxzZGLvy7"
      },
      "source": [
        "Podemos ver com uma primeira análise que:\n",
        "\n",
        "1- Cerca de 68% do envio é feito por barcos, o restante é feito por aviões e estradas.\n",
        "\n",
        "2- Cerca de 48% dos produtos é classificado com importância baixa.\n",
        "\n",
        "3-O gênero dos consumidores está bem distribuído."
      ]
    },
    {
      "cell_type": "markdown",
      "metadata": {
        "id": "O3ZbEumsOcl1"
      },
      "source": [
        "## Análise de correlação entre gêneros e outras variáveis"
      ]
    },
    {
      "cell_type": "code",
      "metadata": {
        "id": "JsPgpJgFMs6A"
      },
      "source": [
        "# Criando dataset que será usado na análise de correlações\n",
        "\n",
        "number_cols=list(df.select_dtypes('int64').columns)\n",
        "del(number_cols[0])"
      ],
      "execution_count": 10,
      "outputs": []
    },
    {
      "cell_type": "code",
      "metadata": {
        "colab": {
          "base_uri": "https://localhost:8080/",
          "height": 1000
        },
        "id": "p7YJOL0pOrJB",
        "outputId": "0b7b9a87-3180-4d27-852a-c66376f3d44e"
      },
      "source": [
        "for i in number_cols:\n",
        "  display(df[['Gender',i]].groupby(['Gender']).mean().sort_values(by=i, ascending=False))\n",
        "  print('\\n')"
      ],
      "execution_count": 11,
      "outputs": [
        {
          "output_type": "display_data",
          "data": {
            "text/html": [
              "<div>\n",
              "<style scoped>\n",
              "    .dataframe tbody tr th:only-of-type {\n",
              "        vertical-align: middle;\n",
              "    }\n",
              "\n",
              "    .dataframe tbody tr th {\n",
              "        vertical-align: top;\n",
              "    }\n",
              "\n",
              "    .dataframe thead th {\n",
              "        text-align: right;\n",
              "    }\n",
              "</style>\n",
              "<table border=\"1\" class=\"dataframe\">\n",
              "  <thead>\n",
              "    <tr style=\"text-align: right;\">\n",
              "      <th></th>\n",
              "      <th>Customer_care_calls</th>\n",
              "    </tr>\n",
              "    <tr>\n",
              "      <th>Gender</th>\n",
              "      <th></th>\n",
              "    </tr>\n",
              "  </thead>\n",
              "  <tbody>\n",
              "    <tr>\n",
              "      <th>M</th>\n",
              "      <td>4.057389</td>\n",
              "    </tr>\n",
              "    <tr>\n",
              "      <th>F</th>\n",
              "      <td>4.051578</td>\n",
              "    </tr>\n",
              "  </tbody>\n",
              "</table>\n",
              "</div>"
            ],
            "text/plain": [
              "        Customer_care_calls\n",
              "Gender                     \n",
              "M                  4.057389\n",
              "F                  4.051578"
            ]
          },
          "metadata": {
            "tags": []
          }
        },
        {
          "output_type": "stream",
          "text": [
            "\n",
            "\n"
          ],
          "name": "stdout"
        },
        {
          "output_type": "display_data",
          "data": {
            "text/html": [
              "<div>\n",
              "<style scoped>\n",
              "    .dataframe tbody tr th:only-of-type {\n",
              "        vertical-align: middle;\n",
              "    }\n",
              "\n",
              "    .dataframe tbody tr th {\n",
              "        vertical-align: top;\n",
              "    }\n",
              "\n",
              "    .dataframe thead th {\n",
              "        text-align: right;\n",
              "    }\n",
              "</style>\n",
              "<table border=\"1\" class=\"dataframe\">\n",
              "  <thead>\n",
              "    <tr style=\"text-align: right;\">\n",
              "      <th></th>\n",
              "      <th>Customer_rating</th>\n",
              "    </tr>\n",
              "    <tr>\n",
              "      <th>Gender</th>\n",
              "      <th></th>\n",
              "    </tr>\n",
              "  </thead>\n",
              "  <tbody>\n",
              "    <tr>\n",
              "      <th>M</th>\n",
              "      <td>2.994499</td>\n",
              "    </tr>\n",
              "    <tr>\n",
              "      <th>F</th>\n",
              "      <td>2.986655</td>\n",
              "    </tr>\n",
              "  </tbody>\n",
              "</table>\n",
              "</div>"
            ],
            "text/plain": [
              "        Customer_rating\n",
              "Gender                 \n",
              "M              2.994499\n",
              "F              2.986655"
            ]
          },
          "metadata": {
            "tags": []
          }
        },
        {
          "output_type": "stream",
          "text": [
            "\n",
            "\n"
          ],
          "name": "stdout"
        },
        {
          "output_type": "display_data",
          "data": {
            "text/html": [
              "<div>\n",
              "<style scoped>\n",
              "    .dataframe tbody tr th:only-of-type {\n",
              "        vertical-align: middle;\n",
              "    }\n",
              "\n",
              "    .dataframe tbody tr th {\n",
              "        vertical-align: top;\n",
              "    }\n",
              "\n",
              "    .dataframe thead th {\n",
              "        text-align: right;\n",
              "    }\n",
              "</style>\n",
              "<table border=\"1\" class=\"dataframe\">\n",
              "  <thead>\n",
              "    <tr style=\"text-align: right;\">\n",
              "      <th></th>\n",
              "      <th>Cost_of_the_Product</th>\n",
              "    </tr>\n",
              "    <tr>\n",
              "      <th>Gender</th>\n",
              "      <th></th>\n",
              "    </tr>\n",
              "  </thead>\n",
              "  <tbody>\n",
              "    <tr>\n",
              "      <th>M</th>\n",
              "      <td>211.154382</td>\n",
              "    </tr>\n",
              "    <tr>\n",
              "      <th>F</th>\n",
              "      <td>209.255005</td>\n",
              "    </tr>\n",
              "  </tbody>\n",
              "</table>\n",
              "</div>"
            ],
            "text/plain": [
              "        Cost_of_the_Product\n",
              "Gender                     \n",
              "M                211.154382\n",
              "F                209.255005"
            ]
          },
          "metadata": {
            "tags": []
          }
        },
        {
          "output_type": "stream",
          "text": [
            "\n",
            "\n"
          ],
          "name": "stdout"
        },
        {
          "output_type": "display_data",
          "data": {
            "text/html": [
              "<div>\n",
              "<style scoped>\n",
              "    .dataframe tbody tr th:only-of-type {\n",
              "        vertical-align: middle;\n",
              "    }\n",
              "\n",
              "    .dataframe tbody tr th {\n",
              "        vertical-align: top;\n",
              "    }\n",
              "\n",
              "    .dataframe thead th {\n",
              "        text-align: right;\n",
              "    }\n",
              "</style>\n",
              "<table border=\"1\" class=\"dataframe\">\n",
              "  <thead>\n",
              "    <tr style=\"text-align: right;\">\n",
              "      <th></th>\n",
              "      <th>Prior_purchases</th>\n",
              "    </tr>\n",
              "    <tr>\n",
              "      <th>Gender</th>\n",
              "      <th></th>\n",
              "    </tr>\n",
              "  </thead>\n",
              "  <tbody>\n",
              "    <tr>\n",
              "      <th>F</th>\n",
              "      <td>3.581785</td>\n",
              "    </tr>\n",
              "    <tr>\n",
              "      <th>M</th>\n",
              "      <td>3.553172</td>\n",
              "    </tr>\n",
              "  </tbody>\n",
              "</table>\n",
              "</div>"
            ],
            "text/plain": [
              "        Prior_purchases\n",
              "Gender                 \n",
              "F              3.581785\n",
              "M              3.553172"
            ]
          },
          "metadata": {
            "tags": []
          }
        },
        {
          "output_type": "stream",
          "text": [
            "\n",
            "\n"
          ],
          "name": "stdout"
        },
        {
          "output_type": "display_data",
          "data": {
            "text/html": [
              "<div>\n",
              "<style scoped>\n",
              "    .dataframe tbody tr th:only-of-type {\n",
              "        vertical-align: middle;\n",
              "    }\n",
              "\n",
              "    .dataframe tbody tr th {\n",
              "        vertical-align: top;\n",
              "    }\n",
              "\n",
              "    .dataframe thead th {\n",
              "        text-align: right;\n",
              "    }\n",
              "</style>\n",
              "<table border=\"1\" class=\"dataframe\">\n",
              "  <thead>\n",
              "    <tr style=\"text-align: right;\">\n",
              "      <th></th>\n",
              "      <th>Discount_offered</th>\n",
              "    </tr>\n",
              "    <tr>\n",
              "      <th>Gender</th>\n",
              "      <th></th>\n",
              "    </tr>\n",
              "  </thead>\n",
              "  <tbody>\n",
              "    <tr>\n",
              "      <th>F</th>\n",
              "      <td>13.562489</td>\n",
              "    </tr>\n",
              "    <tr>\n",
              "      <th>M</th>\n",
              "      <td>13.180785</td>\n",
              "    </tr>\n",
              "  </tbody>\n",
              "</table>\n",
              "</div>"
            ],
            "text/plain": [
              "        Discount_offered\n",
              "Gender                  \n",
              "F              13.562489\n",
              "M              13.180785"
            ]
          },
          "metadata": {
            "tags": []
          }
        },
        {
          "output_type": "stream",
          "text": [
            "\n",
            "\n"
          ],
          "name": "stdout"
        },
        {
          "output_type": "display_data",
          "data": {
            "text/html": [
              "<div>\n",
              "<style scoped>\n",
              "    .dataframe tbody tr th:only-of-type {\n",
              "        vertical-align: middle;\n",
              "    }\n",
              "\n",
              "    .dataframe tbody tr th {\n",
              "        vertical-align: top;\n",
              "    }\n",
              "\n",
              "    .dataframe thead th {\n",
              "        text-align: right;\n",
              "    }\n",
              "</style>\n",
              "<table border=\"1\" class=\"dataframe\">\n",
              "  <thead>\n",
              "    <tr style=\"text-align: right;\">\n",
              "      <th></th>\n",
              "      <th>Weight_in_gms</th>\n",
              "    </tr>\n",
              "    <tr>\n",
              "      <th>Gender</th>\n",
              "      <th></th>\n",
              "    </tr>\n",
              "  </thead>\n",
              "  <tbody>\n",
              "    <tr>\n",
              "      <th>M</th>\n",
              "      <td>3639.907774</td>\n",
              "    </tr>\n",
              "    <tr>\n",
              "      <th>F</th>\n",
              "      <td>3628.222362</td>\n",
              "    </tr>\n",
              "  </tbody>\n",
              "</table>\n",
              "</div>"
            ],
            "text/plain": [
              "        Weight_in_gms\n",
              "Gender               \n",
              "M         3639.907774\n",
              "F         3628.222362"
            ]
          },
          "metadata": {
            "tags": []
          }
        },
        {
          "output_type": "stream",
          "text": [
            "\n",
            "\n"
          ],
          "name": "stdout"
        },
        {
          "output_type": "display_data",
          "data": {
            "text/html": [
              "<div>\n",
              "<style scoped>\n",
              "    .dataframe tbody tr th:only-of-type {\n",
              "        vertical-align: middle;\n",
              "    }\n",
              "\n",
              "    .dataframe tbody tr th {\n",
              "        vertical-align: top;\n",
              "    }\n",
              "\n",
              "    .dataframe thead th {\n",
              "        text-align: right;\n",
              "    }\n",
              "</style>\n",
              "<table border=\"1\" class=\"dataframe\">\n",
              "  <thead>\n",
              "    <tr style=\"text-align: right;\">\n",
              "      <th></th>\n",
              "      <th>Reached.on.Time_Y.N</th>\n",
              "    </tr>\n",
              "    <tr>\n",
              "      <th>Gender</th>\n",
              "      <th></th>\n",
              "    </tr>\n",
              "  </thead>\n",
              "  <tbody>\n",
              "    <tr>\n",
              "      <th>M</th>\n",
              "      <td>0.599010</td>\n",
              "    </tr>\n",
              "    <tr>\n",
              "      <th>F</th>\n",
              "      <td>0.594409</td>\n",
              "    </tr>\n",
              "  </tbody>\n",
              "</table>\n",
              "</div>"
            ],
            "text/plain": [
              "        Reached.on.Time_Y.N\n",
              "Gender                     \n",
              "M                  0.599010\n",
              "F                  0.594409"
            ]
          },
          "metadata": {
            "tags": []
          }
        },
        {
          "output_type": "stream",
          "text": [
            "\n",
            "\n"
          ],
          "name": "stdout"
        }
      ]
    },
    {
      "cell_type": "markdown",
      "metadata": {
        "id": "nKOvjGYjYzNm"
      },
      "source": [
        "Gêneros por ligação de atendimentos ao cliente, avaliação de consumidores, compras anteriores, e chegada a tempo."
      ]
    },
    {
      "cell_type": "code",
      "metadata": {
        "colab": {
          "base_uri": "https://localhost:8080/",
          "height": 609
        },
        "id": "8VcYcsvTUCjc",
        "outputId": "a1ef814c-89df-4fd2-ba86-c4c6ea3b98db"
      },
      "source": [
        "sns.set_style('darkgrid')\n",
        "\n",
        "f,axes= plt.subplots(2,2, figsize=(10,10))\n",
        "\n",
        "sns.countplot(x='Customer_care_calls',hue='Gender',data=df,palette='RdBu_r', ax=axes[0,0])\n",
        "sns.countplot(x='Customer_rating',hue='Gender',data=df,palette='RdBu_r', ax=axes[0,1])\n",
        "sns.countplot(x='Prior_purchases',hue='Gender',data=df,palette='RdBu_r', ax=axes[1,0])\n",
        "sns.countplot(x='Reached.on.Time_Y.N',hue='Gender',data=df,palette='RdBu_r', ax=axes[1,1])\n",
        "\n",
        "sns.set_style('whitegrid')"
      ],
      "execution_count": 12,
      "outputs": [
        {
          "output_type": "display_data",
          "data": {
            "image/png": "[encoded data removed]",
            "text/plain": [
              "<Figure size 720x720 with 4 Axes>"
            ]
          },
          "metadata": {
            "tags": []
          }
        }
      ]
    },
    {
      "cell_type": "markdown",
      "metadata": {
        "id": "h2OWwRQnZwq0"
      },
      "source": [
        "## Análise por blocos presentes no armazém (A, B, C, D e F)"
      ]
    },
    {
      "cell_type": "code",
      "metadata": {
        "colab": {
          "base_uri": "https://localhost:8080/",
          "height": 411
        },
        "id": "U3FmvA2zZF3O",
        "outputId": "251c862d-1618-4d75-c564-36c18975d2db"
      },
      "source": [
        "warehouse = df['Warehouse_block'].value_counts()\n",
        "\n",
        "plt.figure(figsize=(7, 5))\n",
        "\n",
        "plot = warehouse.plot.pie(fontsize=16, autopct='%1.0f%%', labeldistance=1.2, radius=1.5)\n",
        "plt.show()"
      ],
      "execution_count": 13,
      "outputs": [
        {
          "output_type": "display_data",
          "data": {
            "image/png": "[encoded data removed]",
            "text/plain": [
              "<Figure size 504x360 with 1 Axes>"
            ]
          },
          "metadata": {
            "tags": []
          }
        }
      ]
    },
    {
      "cell_type": "markdown",
      "metadata": {
        "id": "Rvtm-vzwbI4L"
      },
      "source": [
        "## Análise por modo de envio"
      ]
    },
    {
      "cell_type": "code",
      "metadata": {
        "colab": {
          "base_uri": "https://localhost:8080/",
          "height": 407
        },
        "id": "N3QAsuT_aLmY",
        "outputId": "25d8811d-014e-489c-f1fd-8bda5b2ba459"
      },
      "source": [
        "shipping= df['Mode_of_Shipment'].value_counts()\n",
        "\n",
        "plt.figure(figsize=(7, 5))\n",
        "\n",
        "plot = shipping.plot.pie(fontsize=16, autopct='%1.0f%%', labeldistance=1.2, radius=1.5)\n",
        "plt.show()"
      ],
      "execution_count": 14,
      "outputs": [
        {
          "output_type": "display_data",
          "data": {
            "image/png": "[encoded data removed]",
            "text/plain": [
              "<Figure size 504x360 with 1 Axes>"
            ]
          },
          "metadata": {
            "tags": []
          }
        }
      ]
    },
    {
      "cell_type": "markdown",
      "metadata": {
        "id": "aCYt4dlyehT9"
      },
      "source": [
        "## Análise do número de liçações de atendimento ao cliente"
      ]
    },
    {
      "cell_type": "code",
      "metadata": {
        "colab": {
          "base_uri": "https://localhost:8080/",
          "height": 311
        },
        "id": "S-Gv8b4-cLzW",
        "outputId": "cfabf939-795b-40fe-dc18-9309eda112ed"
      },
      "source": [
        "call_rate=df['Customer_care_calls'].value_counts()\n",
        "\n",
        "sns.barplot(x=call_rate.index, y=call_rate.values, alpha=0.8)\n",
        "plt.title('Number of calls by customers', fontsize=18, pad=10)\n",
        "plt.ylabel('Number of customers', fontsize=14)\n",
        "plt.xlabel('Number of calls', fontsize=14)\n",
        "plt.xticks(fontsize=14)\n",
        "plt.yticks(fontsize=10)\n",
        "plt.show()"
      ],
      "execution_count": 15,
      "outputs": [
        {
          "output_type": "display_data",
          "data": {
            "image/png": "[encoded data removed]",
            "text/plain": [
              "<Figure size 432x288 with 1 Axes>"
            ]
          },
          "metadata": {
            "tags": []
          }
        }
      ]
    },
    {
      "cell_type": "markdown",
      "metadata": {
        "id": "6BQKALOwe0DE"
      },
      "source": [
        "## Análise da avaliação de consumidores"
      ]
    },
    {
      "cell_type": "code",
      "metadata": {
        "colab": {
          "base_uri": "https://localhost:8080/",
          "height": 311
        },
        "id": "-tWqL2-0c8Gn",
        "outputId": "a47c864b-a6d7-4843-a052-482276bd8987"
      },
      "source": [
        "rating=df['Customer_rating'].value_counts()\n",
        "\n",
        "sns.barplot(x=rating.index, y=rating.values, alpha=0.8)\n",
        "plt.title('Ratings by customers', fontsize=18, pad=10)\n",
        "plt.ylabel('Number of customers', fontsize=14)\n",
        "plt.xlabel('Ratings', fontsize=14)\n",
        "plt.xticks(fontsize=14)\n",
        "plt.yticks(fontsize=10)\n",
        "plt.show()"
      ],
      "execution_count": 16,
      "outputs": [
        {
          "output_type": "display_data",
          "data": {
            "image/png": "[encoded data removed]",
            "text/plain": [
              "<Figure size 432x288 with 1 Axes>"
            ]
          },
          "metadata": {
            "tags": []
          }
        }
      ]
    },
    {
      "cell_type": "markdown",
      "metadata": {
        "id": "P2acpQUDe7z_"
      },
      "source": [
        "## Análise de compras anteriores"
      ]
    },
    {
      "cell_type": "code",
      "metadata": {
        "colab": {
          "base_uri": "https://localhost:8080/",
          "height": 311
        },
        "id": "4QX1BClidBj5",
        "outputId": "ceee0c1c-e734-4ec2-c661-28ba68273c21"
      },
      "source": [
        "prior_purchases=df['Prior_purchases'].value_counts()\n",
        "\n",
        "sns.barplot(x=prior_purchases.index, y=prior_purchases.values, alpha=0.8)\n",
        "plt.title('Prior purchases by customers', fontsize=18, pad=10)\n",
        "plt.ylabel('Number of customers', fontsize=14)\n",
        "plt.xlabel('Number of prior purchases', fontsize=14)\n",
        "plt.xticks(fontsize=14)\n",
        "plt.yticks(fontsize=10)\n",
        "plt.show()"
      ],
      "execution_count": 17,
      "outputs": [
        {
          "output_type": "display_data",
          "data": {
            "image/png": "[encoded data removed]",
            "text/plain": [
              "<Figure size 432x288 with 1 Axes>"
            ]
          },
          "metadata": {
            "tags": []
          }
        }
      ]
    },
    {
      "cell_type": "markdown",
      "metadata": {
        "id": "oVGp170vfDM6"
      },
      "source": [
        "## Análise da importância dos produtos"
      ]
    },
    {
      "cell_type": "code",
      "metadata": {
        "colab": {
          "base_uri": "https://localhost:8080/",
          "height": 390
        },
        "id": "KTXiQ0ASdG42",
        "outputId": "182dd778-63ec-4d97-a409-519103a763ca"
      },
      "source": [
        "importance = df['Product_importance'].value_counts()\n",
        "\n",
        "plt.figure(figsize=(8, 5))\n",
        "\n",
        "sns.barplot(x=importance.index, y=importance.values, alpha=0.8)\n",
        "plt.title('Product importance categories', fontsize=14, pad=10)\n",
        "plt.ylabel('Number of products', fontsize=14)\n",
        "plt.xlabel('Category of importance', fontsize=14)\n",
        "plt.xticks(fontsize=14, rotation=30)\n",
        "plt.yticks(fontsize=10)\n",
        "plt.show()"
      ],
      "execution_count": 18,
      "outputs": [
        {
          "output_type": "display_data",
          "data": {
            "image/png": "[encoded data removed]",
            "text/plain": [
              "<Figure size 576x360 with 1 Axes>"
            ]
          },
          "metadata": {
            "tags": []
          }
        }
      ]
    },
    {
      "cell_type": "markdown",
      "metadata": {
        "id": "0oesx5tEfPy0"
      },
      "source": [
        "## Análise do custo dos produtos"
      ]
    },
    {
      "cell_type": "code",
      "metadata": {
        "colab": {
          "base_uri": "https://localhost:8080/",
          "height": 299
        },
        "id": "7DSu_H8NdeyU",
        "outputId": "5318f90e-ac27-4bf3-e2ea-d8ee71f3560f"
      },
      "source": [
        "cost= df['Cost_of_the_Product']\n",
        "\n",
        "sns.histplot(cost).set(ylabel=None, xlabel=None)\n",
        "plt.title('Product Cost', fontsize=14)\n",
        "plt.xlabel('Amount', fontsize=12)\n",
        "plt.show()"
      ],
      "execution_count": 19,
      "outputs": [
        {
          "output_type": "display_data",
          "data": {
            "image/png": "[encoded data removed]",
            "text/plain": [
              "<Figure size 432x288 with 1 Axes>"
            ]
          },
          "metadata": {
            "tags": []
          }
        }
      ]
    },
    {
      "cell_type": "markdown",
      "metadata": {
        "id": "z9OJAhd5guhy"
      },
      "source": [
        "## Análise da correlação entre avaliação dos consumidores e outras variáveis"
      ]
    },
    {
      "cell_type": "code",
      "metadata": {
        "id": "1ZHRzBpAiySX"
      },
      "source": [
        "# selecionando todas as colunas que tem objeto como tipo de dado\n",
        "\n",
        "object_cols=list(df.select_dtypes('object').columns)\n",
        "\n",
        "for i in object_cols:\n",
        "  df[i]=df[i].astype('category')"
      ],
      "execution_count": 20,
      "outputs": []
    },
    {
      "cell_type": "code",
      "metadata": {
        "id": "YxZvbV28kF5i"
      },
      "source": [
        "# Para efetuar a análise, devemos transformar os objetos em números que representam cada categoria\n",
        "\n",
        "cat_columns = df.select_dtypes(['category']).columns\n",
        "df[cat_columns] = df[cat_columns].apply(lambda x: x.cat.codes)"
      ],
      "execution_count": 21,
      "outputs": []
    },
    {
      "cell_type": "code",
      "metadata": {
        "colab": {
          "base_uri": "https://localhost:8080/",
          "height": 224
        },
        "id": "s8nWKx9X2g7E",
        "outputId": "ee0c79c2-34ef-4cb8-bf4f-ed8395ab84dd"
      },
      "source": [
        "df.head()"
      ],
      "execution_count": 22,
      "outputs": [
        {
          "output_type": "execute_result",
          "data": {
            "text/html": [
              "<div>\n",
              "<style scoped>\n",
              "    .dataframe tbody tr th:only-of-type {\n",
              "        vertical-align: middle;\n",
              "    }\n",
              "\n",
              "    .dataframe tbody tr th {\n",
              "        vertical-align: top;\n",
              "    }\n",
              "\n",
              "    .dataframe thead th {\n",
              "        text-align: right;\n",
              "    }\n",
              "</style>\n",
              "<table border=\"1\" class=\"dataframe\">\n",
              "  <thead>\n",
              "    <tr style=\"text-align: right;\">\n",
              "      <th></th>\n",
              "      <th>ID</th>\n",
              "      <th>Warehouse_block</th>\n",
              "      <th>Mode_of_Shipment</th>\n",
              "      <th>Customer_care_calls</th>\n",
              "      <th>Customer_rating</th>\n",
              "      <th>Cost_of_the_Product</th>\n",
              "      <th>Prior_purchases</th>\n",
              "      <th>Product_importance</th>\n",
              "      <th>Gender</th>\n",
              "      <th>Discount_offered</th>\n",
              "      <th>Weight_in_gms</th>\n",
              "      <th>Reached.on.Time_Y.N</th>\n",
              "    </tr>\n",
              "  </thead>\n",
              "  <tbody>\n",
              "    <tr>\n",
              "      <th>0</th>\n",
              "      <td>1</td>\n",
              "      <td>3</td>\n",
              "      <td>0</td>\n",
              "      <td>4</td>\n",
              "      <td>2</td>\n",
              "      <td>177</td>\n",
              "      <td>3</td>\n",
              "      <td>1</td>\n",
              "      <td>0</td>\n",
              "      <td>44</td>\n",
              "      <td>1233</td>\n",
              "      <td>1</td>\n",
              "    </tr>\n",
              "    <tr>\n",
              "      <th>1</th>\n",
              "      <td>2</td>\n",
              "      <td>4</td>\n",
              "      <td>0</td>\n",
              "      <td>4</td>\n",
              "      <td>5</td>\n",
              "      <td>216</td>\n",
              "      <td>2</td>\n",
              "      <td>1</td>\n",
              "      <td>1</td>\n",
              "      <td>59</td>\n",
              "      <td>3088</td>\n",
              "      <td>1</td>\n",
              "    </tr>\n",
              "    <tr>\n",
              "      <th>2</th>\n",
              "      <td>3</td>\n",
              "      <td>0</td>\n",
              "      <td>0</td>\n",
              "      <td>2</td>\n",
              "      <td>2</td>\n",
              "      <td>183</td>\n",
              "      <td>4</td>\n",
              "      <td>1</td>\n",
              "      <td>1</td>\n",
              "      <td>48</td>\n",
              "      <td>3374</td>\n",
              "      <td>1</td>\n",
              "    </tr>\n",
              "    <tr>\n",
              "      <th>3</th>\n",
              "      <td>4</td>\n",
              "      <td>1</td>\n",
              "      <td>0</td>\n",
              "      <td>3</td>\n",
              "      <td>3</td>\n",
              "      <td>176</td>\n",
              "      <td>4</td>\n",
              "      <td>2</td>\n",
              "      <td>1</td>\n",
              "      <td>10</td>\n",
              "      <td>1177</td>\n",
              "      <td>1</td>\n",
              "    </tr>\n",
              "    <tr>\n",
              "      <th>4</th>\n",
              "      <td>5</td>\n",
              "      <td>2</td>\n",
              "      <td>0</td>\n",
              "      <td>2</td>\n",
              "      <td>2</td>\n",
              "      <td>184</td>\n",
              "      <td>3</td>\n",
              "      <td>2</td>\n",
              "      <td>0</td>\n",
              "      <td>46</td>\n",
              "      <td>2484</td>\n",
              "      <td>1</td>\n",
              "    </tr>\n",
              "  </tbody>\n",
              "</table>\n",
              "</div>"
            ],
            "text/plain": [
              "   ID  Warehouse_block  ...  Weight_in_gms  Reached.on.Time_Y.N\n",
              "0   1                3  ...           1233                    1\n",
              "1   2                4  ...           3088                    1\n",
              "2   3                0  ...           3374                    1\n",
              "3   4                1  ...           1177                    1\n",
              "4   5                2  ...           2484                    1\n",
              "\n",
              "[5 rows x 12 columns]"
            ]
          },
          "metadata": {
            "tags": []
          },
          "execution_count": 22
        }
      ]
    },
    {
      "cell_type": "code",
      "metadata": {
        "colab": {
          "base_uri": "https://localhost:8080/"
        },
        "id": "0P9Z4kdl2ivj",
        "outputId": "68382fe4-5531-4d56-8f9e-c1f98597b61b"
      },
      "source": [
        "df.info()"
      ],
      "execution_count": 23,
      "outputs": [
        {
          "output_type": "stream",
          "text": [
            "<class 'pandas.core.frame.DataFrame'>\n",
            "RangeIndex: 10999 entries, 0 to 10998\n",
            "Data columns (total 12 columns):\n",
            " #   Column               Non-Null Count  Dtype\n",
            "---  ------               --------------  -----\n",
            " 0   ID                   10999 non-null  int64\n",
            " 1   Warehouse_block      10999 non-null  int8 \n",
            " 2   Mode_of_Shipment     10999 non-null  int8 \n",
            " 3   Customer_care_calls  10999 non-null  int64\n",
            " 4   Customer_rating      10999 non-null  int64\n",
            " 5   Cost_of_the_Product  10999 non-null  int64\n",
            " 6   Prior_purchases      10999 non-null  int64\n",
            " 7   Product_importance   10999 non-null  int8 \n",
            " 8   Gender               10999 non-null  int8 \n",
            " 9   Discount_offered     10999 non-null  int64\n",
            " 10  Weight_in_gms        10999 non-null  int64\n",
            " 11  Reached.on.Time_Y.N  10999 non-null  int64\n",
            "dtypes: int64(8), int8(4)\n",
            "memory usage: 730.5 KB\n"
          ],
          "name": "stdout"
        }
      ]
    },
    {
      "cell_type": "code",
      "metadata": {
        "id": "8sN1SuDr3BWH"
      },
      "source": [
        "# Selecionando features que serão utilizadas na análise\n",
        "\n",
        "features=list(df.columns)\n",
        "del(features[0],features[3])"
      ],
      "execution_count": 24,
      "outputs": []
    },
    {
      "cell_type": "code",
      "metadata": {
        "colab": {
          "base_uri": "https://localhost:8080/"
        },
        "id": "O7G0ur_C4y1W",
        "outputId": "ff601a55-acae-422c-c4b1-e692abc62191"
      },
      "source": [
        "# calculo de correlação entre as features e avaliação dos clientes\n",
        "\n",
        "for f in features:\n",
        "    related = df['Customer_rating'].corr(df[f])\n",
        "    print(\"%s: %f\" % (f,related))"
      ],
      "execution_count": 25,
      "outputs": [
        {
          "output_type": "stream",
          "text": [
            "Warehouse_block: 0.010169\n",
            "Mode_of_Shipment: 0.001679\n",
            "Customer_care_calls: 0.012209\n",
            "Cost_of_the_Product: 0.009270\n",
            "Prior_purchases: 0.013179\n",
            "Product_importance: 0.003157\n",
            "Gender: 0.002775\n",
            "Discount_offered: -0.003124\n",
            "Weight_in_gms: -0.001897\n",
            "Reached.on.Time_Y.N: 0.013119\n"
          ],
          "name": "stdout"
        }
      ]
    },
    {
      "cell_type": "code",
      "metadata": {
        "id": "2pUJgnDO8w7s"
      },
      "source": [
        "correlations = [df['Customer_rating'].corr(df[f]) for f in features ]"
      ],
      "execution_count": 26,
      "outputs": []
    },
    {
      "cell_type": "code",
      "metadata": {
        "colab": {
          "base_uri": "https://localhost:8080/",
          "height": 359
        },
        "id": "R0spJb5J80aB",
        "outputId": "1dc0b4e0-9753-4267-ff5c-67687396ca91"
      },
      "source": [
        "features_df = pd.DataFrame({'attributes': features, 'correlation': correlations})\n",
        "display(features_df)"
      ],
      "execution_count": 27,
      "outputs": [
        {
          "output_type": "display_data",
          "data": {
            "text/html": [
              "<div>\n",
              "<style scoped>\n",
              "    .dataframe tbody tr th:only-of-type {\n",
              "        vertical-align: middle;\n",
              "    }\n",
              "\n",
              "    .dataframe tbody tr th {\n",
              "        vertical-align: top;\n",
              "    }\n",
              "\n",
              "    .dataframe thead th {\n",
              "        text-align: right;\n",
              "    }\n",
              "</style>\n",
              "<table border=\"1\" class=\"dataframe\">\n",
              "  <thead>\n",
              "    <tr style=\"text-align: right;\">\n",
              "      <th></th>\n",
              "      <th>attributes</th>\n",
              "      <th>correlation</th>\n",
              "    </tr>\n",
              "  </thead>\n",
              "  <tbody>\n",
              "    <tr>\n",
              "      <th>0</th>\n",
              "      <td>Warehouse_block</td>\n",
              "      <td>0.010169</td>\n",
              "    </tr>\n",
              "    <tr>\n",
              "      <th>1</th>\n",
              "      <td>Mode_of_Shipment</td>\n",
              "      <td>0.001679</td>\n",
              "    </tr>\n",
              "    <tr>\n",
              "      <th>2</th>\n",
              "      <td>Customer_care_calls</td>\n",
              "      <td>0.012209</td>\n",
              "    </tr>\n",
              "    <tr>\n",
              "      <th>3</th>\n",
              "      <td>Cost_of_the_Product</td>\n",
              "      <td>0.009270</td>\n",
              "    </tr>\n",
              "    <tr>\n",
              "      <th>4</th>\n",
              "      <td>Prior_purchases</td>\n",
              "      <td>0.013179</td>\n",
              "    </tr>\n",
              "    <tr>\n",
              "      <th>5</th>\n",
              "      <td>Product_importance</td>\n",
              "      <td>0.003157</td>\n",
              "    </tr>\n",
              "    <tr>\n",
              "      <th>6</th>\n",
              "      <td>Gender</td>\n",
              "      <td>0.002775</td>\n",
              "    </tr>\n",
              "    <tr>\n",
              "      <th>7</th>\n",
              "      <td>Discount_offered</td>\n",
              "      <td>-0.003124</td>\n",
              "    </tr>\n",
              "    <tr>\n",
              "      <th>8</th>\n",
              "      <td>Weight_in_gms</td>\n",
              "      <td>-0.001897</td>\n",
              "    </tr>\n",
              "    <tr>\n",
              "      <th>9</th>\n",
              "      <td>Reached.on.Time_Y.N</td>\n",
              "      <td>0.013119</td>\n",
              "    </tr>\n",
              "  </tbody>\n",
              "</table>\n",
              "</div>"
            ],
            "text/plain": [
              "            attributes  correlation\n",
              "0      Warehouse_block     0.010169\n",
              "1     Mode_of_Shipment     0.001679\n",
              "2  Customer_care_calls     0.012209\n",
              "3  Cost_of_the_Product     0.009270\n",
              "4      Prior_purchases     0.013179\n",
              "5   Product_importance     0.003157\n",
              "6               Gender     0.002775\n",
              "7     Discount_offered    -0.003124\n",
              "8        Weight_in_gms    -0.001897\n",
              "9  Reached.on.Time_Y.N     0.013119"
            ]
          },
          "metadata": {
            "tags": []
          }
        }
      ]
    },
    {
      "cell_type": "code",
      "metadata": {
        "colab": {
          "base_uri": "https://localhost:8080/",
          "height": 578
        },
        "id": "fgaslKSx88Nr",
        "outputId": "b0ef67a4-1104-432f-a0c5-f8b2b8f0bcee"
      },
      "source": [
        "fig=features_df.plot(x ='attributes', y='correlation', kind = 'line',\n",
        "                    color='coral', figsize=(20,4), title='Customer Rating by Feature Correlation',\n",
        "                    linewidth=3.3, marker='.', markersize=20)                \n",
        "\n",
        "plt.xlabel('Features')\n",
        "plt.ylabel('Customer Ratings')\n",
        "plt.xticks(ticks = features_df.index, labels = features_df['attributes'])"
      ],
      "execution_count": 31,
      "outputs": [
        {
          "output_type": "execute_result",
          "data": {
            "text/plain": [
              "([<matplotlib.axis.XTick at 0x7fb69c092cd0>,\n",
              "  <matplotlib.axis.XTick at 0x7fb69bfa29d0>,\n",
              "  <matplotlib.axis.XTick at 0x7fb69bfadd10>,\n",
              "  <matplotlib.axis.XTick at 0x7fb69bfcb310>,\n",
              "  <matplotlib.axis.XTick at 0x7fb69bfcb7d0>,\n",
              "  <matplotlib.axis.XTick at 0x7fb69bfcbd10>,\n",
              "  <matplotlib.axis.XTick at 0x7fb69bfd2350>,\n",
              "  <matplotlib.axis.XTick at 0x7fb69c054990>,\n",
              "  <matplotlib.axis.XTick at 0x7fb69bfd2f50>,\n",
              "  <matplotlib.axis.XTick at 0x7fb69bfd7510>],\n",
              " [Text(0, 0, 'Warehouse_block'),\n",
              "  Text(0, 0, 'Mode_of_Shipment'),\n",
              "  Text(0, 0, 'Customer_care_calls'),\n",
              "  Text(0, 0, 'Cost_of_the_Product'),\n",
              "  Text(0, 0, 'Prior_purchases'),\n",
              "  Text(0, 0, 'Product_importance'),\n",
              "  Text(0, 0, 'Gender'),\n",
              "  Text(0, 0, 'Discount_offered'),\n",
              "  Text(0, 0, 'Weight_in_gms'),\n",
              "  Text(0, 0, 'Reached.on.Time_Y.N')])"
            ]
          },
          "metadata": {
            "tags": []
          },
          "execution_count": 31
        },
        {
          "output_type": "display_data",
          "data": {
            "image/png": "[encoded data removed]",
            "text/plain": [
              "<Figure size 1440x288 with 1 Axes>"
            ]
          },
          "metadata": {
            "tags": []
          }
        }
      ]
    }
  ]
}